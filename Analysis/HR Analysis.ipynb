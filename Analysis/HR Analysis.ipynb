{
 "cells": [
  {
   "cell_type": "markdown",
   "id": "eb885c1c-fb33-441c-b4e7-a4980ba80b38",
   "metadata": {},
   "source": [
    "# Import Libraries"
   ]
  },
  {
   "cell_type": "code",
   "execution_count": 1,
   "id": "afe9c870-4c72-4112-9cec-3f1517e3598b",
   "metadata": {},
   "outputs": [],
   "source": [
    "import pandas as pd\n",
    "import numpy as np\n",
    "import seaborn as sns\n",
    "import matplotlib.pyplot as plt\n",
    "from sklearn.model_selection import train_test_split\n",
    "from sklearn.linear_model import LinearRegression\n",
    "from sklearn.preprocessing import LabelEncoder\n",
    "from sklearn.metrics import mean_squared_error, mean_absolute_error, r2_score\n",
    "from datetime import datetime"
   ]
  },
  {
   "cell_type": "markdown",
   "id": "186055b9-83c8-4786-970c-c500ea0aa008",
   "metadata": {},
   "source": [
    "# Cleaning data"
   ]
  },
  {
   "cell_type": "markdown",
   "id": "1e66b5c0-c9f7-4a53-8f2e-a47283ef621e",
   "metadata": {},
   "source": [
    "## Read Data "
   ]
  },
  {
   "cell_type": "code",
   "execution_count": 2,
   "id": "6ef66a7e-5ca6-465d-a48a-907366d784d2",
   "metadata": {},
   "outputs": [],
   "source": [
    "Education_df = pd.read_csv(r'E:\\final project of analysis\\HR\\Education.csv')"
   ]
  },
  {
   "cell_type": "code",
   "execution_count": 3,
   "id": "7777ba0a-ddad-4b24-9184-ee5d7685e865",
   "metadata": {},
   "outputs": [],
   "source": [
    "Employee_df = pd.read_csv(r'E:\\final project of analysis\\HR\\Employee.csv')"
   ]
  },
  {
   "cell_type": "code",
   "execution_count": 4,
   "id": "a8fb284d-c219-41af-89ad-e8f87d86c344",
   "metadata": {},
   "outputs": [],
   "source": [
    "Performance_df = pd.read_csv(r'E:\\final project of analysis\\HR\\Performance.csv')"
   ]
  },
  {
   "cell_type": "code",
   "execution_count": 5,
   "id": "b46b55b2-1185-444d-8448-374ce2036551",
   "metadata": {},
   "outputs": [],
   "source": [
    "Rating_df = pd.read_csv(r'E:\\final project of analysis\\HR\\Rating.csv')"
   ]
  },
  {
   "cell_type": "code",
   "execution_count": 6,
   "id": "08bd94a5-8f5a-49f2-80ab-0d43dd1133c9",
   "metadata": {},
   "outputs": [],
   "source": [
    "Satisfied_df = pd.read_csv(r'E:\\final project of analysis\\HR\\Satisfied.csv')"
   ]
  },
  {
   "cell_type": "markdown",
   "id": "f0b8c1ff-50e3-4b0d-ba08-836c19375ba1",
   "metadata": {},
   "source": [
    "### Merge name in employee"
   ]
  },
  {
   "cell_type": "code",
   "execution_count": 7,
   "id": "24db21b1-9d5a-4fd1-9b87-e837da4f130f",
   "metadata": {},
   "outputs": [
    {
     "name": "stdout",
     "output_type": "stream",
     "text": [
      "     EmployeeID   FirstName     LastName      Gender  Age BusinessTravel  \\\n",
      "0     3012-1A41    Leonelle        Simco      Female   30    Some Travel   \n",
      "1     CBCB-9C9D     Leonerd        Aland        Male   38    Some Travel   \n",
      "2     95D7-1CE9       Ahmed        Sykes        Male   43    Some Travel   \n",
      "3     47A0-559B  Ermentrude       Berrie  Non-Binary   39    Some Travel   \n",
      "4     42CC-040A       Stace       Savege      Female   29    Some Travel   \n",
      "...         ...         ...          ...         ...  ...            ...   \n",
      "1465  467E-977A         Jud    Melanaphy        Male   20    Some Travel   \n",
      "1466  6FB9-A624        Marc       Calver  Non-Binary   27    Some Travel   \n",
      "1467  EBF4-5928     Rudolph  MacDearmont        Male   21    Some Travel   \n",
      "1468  60E6-B1D9      Merill          Agg        Male   21    Some Travel   \n",
      "1469  84D4-D4C3       Naoma      Hebbard      Female   20     No Travel    \n",
      "\n",
      "           Department  DistanceFromHome (KM) State                  Ethnicity  \\\n",
      "0               Sales                     27    IL                      White   \n",
      "1               Sales                     23    CA                      White   \n",
      "2     Human Resources                     29    CA    Asian or Asian American   \n",
      "3          Technology                     12    IL                      White   \n",
      "4     Human Resources                     29    CA                      White   \n",
      "...               ...                    ...   ...                        ...   \n",
      "1465       Technology                     28    CA  Black or African American   \n",
      "1466       Technology                      8    CA  Black or African American   \n",
      "1467            Sales                      4    CA  Black or African American   \n",
      "1468       Technology                      7    CA  Black or African American   \n",
      "1469       Technology                     28    CA  Black or African American   \n",
      "\n",
      "      ...  Salary StockOptionLevel OverTime    HireDate  Attrition  \\\n",
      "0     ...  102059                1       No  2012-01-03         No   \n",
      "1     ...  157718                0      Yes  2012-01-04         No   \n",
      "2     ...  309964                1       No  2012-01-04         No   \n",
      "3     ...  293132                0       No  2012-01-05         No   \n",
      "4     ...   49606                0       No  2012-01-05        Yes   \n",
      "...   ...     ...              ...      ...         ...        ...   \n",
      "1465  ...   38508                0       No  2022-12-26         No   \n",
      "1466  ...   92995                3       No  2022-12-30         No   \n",
      "1467  ...   63375                0       No  2022-12-30         No   \n",
      "1468  ...   46521                0       No  2022-12-30         No   \n",
      "1469  ...   38258                0       No  2022-12-31         No   \n",
      "\n",
      "      YearsAtCompany YearsInMostRecentRole YearsSinceLastPromotion  \\\n",
      "0                 10                     4                       9   \n",
      "1                 10                     6                      10   \n",
      "2                 10                     6                      10   \n",
      "3                 10                    10                      10   \n",
      "4                  6                     1                       1   \n",
      "...              ...                   ...                     ...   \n",
      "1465               0                     0                       0   \n",
      "1466               0                     0                       0   \n",
      "1467               0                     0                       0   \n",
      "1468               0                     0                       0   \n",
      "1469               0                     0                       0   \n",
      "\n",
      "     YearsWithCurrManager            full_name  \n",
      "0                       7       Leonelle Simco  \n",
      "1                       0        Leonerd Aland  \n",
      "2                       8          Ahmed Sykes  \n",
      "3                       0    Ermentrude Berrie  \n",
      "4                       6         Stace Savege  \n",
      "...                   ...                  ...  \n",
      "1465                    0        Jud Melanaphy  \n",
      "1466                    0          Marc Calver  \n",
      "1467                    0  Rudolph MacDearmont  \n",
      "1468                    0           Merill Agg  \n",
      "1469                    0        Naoma Hebbard  \n",
      "\n",
      "[1470 rows x 24 columns]\n"
     ]
    }
   ],
   "source": [
    "Employee_df['full_name'] = Employee_df['FirstName'] + ' ' + Employee_df['LastName']\n",
    "print(Employee_df)"
   ]
  },
  {
   "cell_type": "code",
   "execution_count": 8,
   "id": "776a0ce5-9de7-48b4-ad11-60626d7fd31b",
   "metadata": {},
   "outputs": [],
   "source": [
    "Employee_df.drop(['FirstName','LastName'], axis=1, inplace=True)"
   ]
  },
  {
   "cell_type": "code",
   "execution_count": 9,
   "id": "e4defd52-4342-4943-98ba-cb59a1f2ca6b",
   "metadata": {},
   "outputs": [
    {
     "data": {
      "text/html": [
       "<div>\n",
       "<style scoped>\n",
       "    .dataframe tbody tr th:only-of-type {\n",
       "        vertical-align: middle;\n",
       "    }\n",
       "\n",
       "    .dataframe tbody tr th {\n",
       "        vertical-align: top;\n",
       "    }\n",
       "\n",
       "    .dataframe thead th {\n",
       "        text-align: right;\n",
       "    }\n",
       "</style>\n",
       "<table border=\"1\" class=\"dataframe\">\n",
       "  <thead>\n",
       "    <tr style=\"text-align: right;\">\n",
       "      <th></th>\n",
       "      <th>EmployeeID</th>\n",
       "      <th>full_name</th>\n",
       "      <th>Gender</th>\n",
       "      <th>Age</th>\n",
       "      <th>BusinessTravel</th>\n",
       "      <th>Department</th>\n",
       "      <th>DistanceFromHome (KM)</th>\n",
       "      <th>State</th>\n",
       "      <th>Ethnicity</th>\n",
       "      <th>Education</th>\n",
       "      <th>...</th>\n",
       "      <th>MaritalStatus</th>\n",
       "      <th>Salary</th>\n",
       "      <th>StockOptionLevel</th>\n",
       "      <th>OverTime</th>\n",
       "      <th>HireDate</th>\n",
       "      <th>Attrition</th>\n",
       "      <th>YearsAtCompany</th>\n",
       "      <th>YearsInMostRecentRole</th>\n",
       "      <th>YearsSinceLastPromotion</th>\n",
       "      <th>YearsWithCurrManager</th>\n",
       "    </tr>\n",
       "  </thead>\n",
       "  <tbody>\n",
       "    <tr>\n",
       "      <th>0</th>\n",
       "      <td>3012-1A41</td>\n",
       "      <td>Leonelle Simco</td>\n",
       "      <td>Female</td>\n",
       "      <td>30</td>\n",
       "      <td>Some Travel</td>\n",
       "      <td>Sales</td>\n",
       "      <td>27</td>\n",
       "      <td>IL</td>\n",
       "      <td>White</td>\n",
       "      <td>5</td>\n",
       "      <td>...</td>\n",
       "      <td>Divorced</td>\n",
       "      <td>102059</td>\n",
       "      <td>1</td>\n",
       "      <td>No</td>\n",
       "      <td>2012-01-03</td>\n",
       "      <td>No</td>\n",
       "      <td>10</td>\n",
       "      <td>4</td>\n",
       "      <td>9</td>\n",
       "      <td>7</td>\n",
       "    </tr>\n",
       "    <tr>\n",
       "      <th>1</th>\n",
       "      <td>CBCB-9C9D</td>\n",
       "      <td>Leonerd Aland</td>\n",
       "      <td>Male</td>\n",
       "      <td>38</td>\n",
       "      <td>Some Travel</td>\n",
       "      <td>Sales</td>\n",
       "      <td>23</td>\n",
       "      <td>CA</td>\n",
       "      <td>White</td>\n",
       "      <td>4</td>\n",
       "      <td>...</td>\n",
       "      <td>Single</td>\n",
       "      <td>157718</td>\n",
       "      <td>0</td>\n",
       "      <td>Yes</td>\n",
       "      <td>2012-01-04</td>\n",
       "      <td>No</td>\n",
       "      <td>10</td>\n",
       "      <td>6</td>\n",
       "      <td>10</td>\n",
       "      <td>0</td>\n",
       "    </tr>\n",
       "    <tr>\n",
       "      <th>2</th>\n",
       "      <td>95D7-1CE9</td>\n",
       "      <td>Ahmed Sykes</td>\n",
       "      <td>Male</td>\n",
       "      <td>43</td>\n",
       "      <td>Some Travel</td>\n",
       "      <td>Human Resources</td>\n",
       "      <td>29</td>\n",
       "      <td>CA</td>\n",
       "      <td>Asian or Asian American</td>\n",
       "      <td>4</td>\n",
       "      <td>...</td>\n",
       "      <td>Married</td>\n",
       "      <td>309964</td>\n",
       "      <td>1</td>\n",
       "      <td>No</td>\n",
       "      <td>2012-01-04</td>\n",
       "      <td>No</td>\n",
       "      <td>10</td>\n",
       "      <td>6</td>\n",
       "      <td>10</td>\n",
       "      <td>8</td>\n",
       "    </tr>\n",
       "    <tr>\n",
       "      <th>3</th>\n",
       "      <td>47A0-559B</td>\n",
       "      <td>Ermentrude Berrie</td>\n",
       "      <td>Non-Binary</td>\n",
       "      <td>39</td>\n",
       "      <td>Some Travel</td>\n",
       "      <td>Technology</td>\n",
       "      <td>12</td>\n",
       "      <td>IL</td>\n",
       "      <td>White</td>\n",
       "      <td>3</td>\n",
       "      <td>...</td>\n",
       "      <td>Married</td>\n",
       "      <td>293132</td>\n",
       "      <td>0</td>\n",
       "      <td>No</td>\n",
       "      <td>2012-01-05</td>\n",
       "      <td>No</td>\n",
       "      <td>10</td>\n",
       "      <td>10</td>\n",
       "      <td>10</td>\n",
       "      <td>0</td>\n",
       "    </tr>\n",
       "    <tr>\n",
       "      <th>4</th>\n",
       "      <td>42CC-040A</td>\n",
       "      <td>Stace Savege</td>\n",
       "      <td>Female</td>\n",
       "      <td>29</td>\n",
       "      <td>Some Travel</td>\n",
       "      <td>Human Resources</td>\n",
       "      <td>29</td>\n",
       "      <td>CA</td>\n",
       "      <td>White</td>\n",
       "      <td>2</td>\n",
       "      <td>...</td>\n",
       "      <td>Single</td>\n",
       "      <td>49606</td>\n",
       "      <td>0</td>\n",
       "      <td>No</td>\n",
       "      <td>2012-01-05</td>\n",
       "      <td>Yes</td>\n",
       "      <td>6</td>\n",
       "      <td>1</td>\n",
       "      <td>1</td>\n",
       "      <td>6</td>\n",
       "    </tr>\n",
       "    <tr>\n",
       "      <th>...</th>\n",
       "      <td>...</td>\n",
       "      <td>...</td>\n",
       "      <td>...</td>\n",
       "      <td>...</td>\n",
       "      <td>...</td>\n",
       "      <td>...</td>\n",
       "      <td>...</td>\n",
       "      <td>...</td>\n",
       "      <td>...</td>\n",
       "      <td>...</td>\n",
       "      <td>...</td>\n",
       "      <td>...</td>\n",
       "      <td>...</td>\n",
       "      <td>...</td>\n",
       "      <td>...</td>\n",
       "      <td>...</td>\n",
       "      <td>...</td>\n",
       "      <td>...</td>\n",
       "      <td>...</td>\n",
       "      <td>...</td>\n",
       "      <td>...</td>\n",
       "    </tr>\n",
       "    <tr>\n",
       "      <th>1465</th>\n",
       "      <td>467E-977A</td>\n",
       "      <td>Jud Melanaphy</td>\n",
       "      <td>Male</td>\n",
       "      <td>20</td>\n",
       "      <td>Some Travel</td>\n",
       "      <td>Technology</td>\n",
       "      <td>28</td>\n",
       "      <td>CA</td>\n",
       "      <td>Black or African American</td>\n",
       "      <td>2</td>\n",
       "      <td>...</td>\n",
       "      <td>Single</td>\n",
       "      <td>38508</td>\n",
       "      <td>0</td>\n",
       "      <td>No</td>\n",
       "      <td>2022-12-26</td>\n",
       "      <td>No</td>\n",
       "      <td>0</td>\n",
       "      <td>0</td>\n",
       "      <td>0</td>\n",
       "      <td>0</td>\n",
       "    </tr>\n",
       "    <tr>\n",
       "      <th>1466</th>\n",
       "      <td>6FB9-A624</td>\n",
       "      <td>Marc Calver</td>\n",
       "      <td>Non-Binary</td>\n",
       "      <td>27</td>\n",
       "      <td>Some Travel</td>\n",
       "      <td>Technology</td>\n",
       "      <td>8</td>\n",
       "      <td>CA</td>\n",
       "      <td>Black or African American</td>\n",
       "      <td>3</td>\n",
       "      <td>...</td>\n",
       "      <td>Single</td>\n",
       "      <td>92995</td>\n",
       "      <td>3</td>\n",
       "      <td>No</td>\n",
       "      <td>2022-12-30</td>\n",
       "      <td>No</td>\n",
       "      <td>0</td>\n",
       "      <td>0</td>\n",
       "      <td>0</td>\n",
       "      <td>0</td>\n",
       "    </tr>\n",
       "    <tr>\n",
       "      <th>1467</th>\n",
       "      <td>EBF4-5928</td>\n",
       "      <td>Rudolph MacDearmont</td>\n",
       "      <td>Male</td>\n",
       "      <td>21</td>\n",
       "      <td>Some Travel</td>\n",
       "      <td>Sales</td>\n",
       "      <td>4</td>\n",
       "      <td>CA</td>\n",
       "      <td>Black or African American</td>\n",
       "      <td>4</td>\n",
       "      <td>...</td>\n",
       "      <td>Single</td>\n",
       "      <td>63375</td>\n",
       "      <td>0</td>\n",
       "      <td>No</td>\n",
       "      <td>2022-12-30</td>\n",
       "      <td>No</td>\n",
       "      <td>0</td>\n",
       "      <td>0</td>\n",
       "      <td>0</td>\n",
       "      <td>0</td>\n",
       "    </tr>\n",
       "    <tr>\n",
       "      <th>1468</th>\n",
       "      <td>60E6-B1D9</td>\n",
       "      <td>Merill Agg</td>\n",
       "      <td>Male</td>\n",
       "      <td>21</td>\n",
       "      <td>Some Travel</td>\n",
       "      <td>Technology</td>\n",
       "      <td>7</td>\n",
       "      <td>CA</td>\n",
       "      <td>Black or African American</td>\n",
       "      <td>3</td>\n",
       "      <td>...</td>\n",
       "      <td>Married</td>\n",
       "      <td>46521</td>\n",
       "      <td>0</td>\n",
       "      <td>No</td>\n",
       "      <td>2022-12-30</td>\n",
       "      <td>No</td>\n",
       "      <td>0</td>\n",
       "      <td>0</td>\n",
       "      <td>0</td>\n",
       "      <td>0</td>\n",
       "    </tr>\n",
       "    <tr>\n",
       "      <th>1469</th>\n",
       "      <td>84D4-D4C3</td>\n",
       "      <td>Naoma Hebbard</td>\n",
       "      <td>Female</td>\n",
       "      <td>20</td>\n",
       "      <td>No Travel</td>\n",
       "      <td>Technology</td>\n",
       "      <td>28</td>\n",
       "      <td>CA</td>\n",
       "      <td>Black or African American</td>\n",
       "      <td>2</td>\n",
       "      <td>...</td>\n",
       "      <td>Married</td>\n",
       "      <td>38258</td>\n",
       "      <td>0</td>\n",
       "      <td>No</td>\n",
       "      <td>2022-12-31</td>\n",
       "      <td>No</td>\n",
       "      <td>0</td>\n",
       "      <td>0</td>\n",
       "      <td>0</td>\n",
       "      <td>0</td>\n",
       "    </tr>\n",
       "  </tbody>\n",
       "</table>\n",
       "<p>1470 rows × 22 columns</p>\n",
       "</div>"
      ],
      "text/plain": [
       "     EmployeeID            full_name      Gender  Age BusinessTravel  \\\n",
       "0     3012-1A41       Leonelle Simco      Female   30    Some Travel   \n",
       "1     CBCB-9C9D        Leonerd Aland        Male   38    Some Travel   \n",
       "2     95D7-1CE9          Ahmed Sykes        Male   43    Some Travel   \n",
       "3     47A0-559B    Ermentrude Berrie  Non-Binary   39    Some Travel   \n",
       "4     42CC-040A         Stace Savege      Female   29    Some Travel   \n",
       "...         ...                  ...         ...  ...            ...   \n",
       "1465  467E-977A        Jud Melanaphy        Male   20    Some Travel   \n",
       "1466  6FB9-A624          Marc Calver  Non-Binary   27    Some Travel   \n",
       "1467  EBF4-5928  Rudolph MacDearmont        Male   21    Some Travel   \n",
       "1468  60E6-B1D9           Merill Agg        Male   21    Some Travel   \n",
       "1469  84D4-D4C3        Naoma Hebbard      Female   20     No Travel    \n",
       "\n",
       "           Department  DistanceFromHome (KM) State                  Ethnicity  \\\n",
       "0               Sales                     27    IL                      White   \n",
       "1               Sales                     23    CA                      White   \n",
       "2     Human Resources                     29    CA    Asian or Asian American   \n",
       "3          Technology                     12    IL                      White   \n",
       "4     Human Resources                     29    CA                      White   \n",
       "...               ...                    ...   ...                        ...   \n",
       "1465       Technology                     28    CA  Black or African American   \n",
       "1466       Technology                      8    CA  Black or African American   \n",
       "1467            Sales                      4    CA  Black or African American   \n",
       "1468       Technology                      7    CA  Black or African American   \n",
       "1469       Technology                     28    CA  Black or African American   \n",
       "\n",
       "      Education  ... MaritalStatus  Salary StockOptionLevel  OverTime  \\\n",
       "0             5  ...      Divorced  102059                1        No   \n",
       "1             4  ...        Single  157718                0       Yes   \n",
       "2             4  ...       Married  309964                1        No   \n",
       "3             3  ...       Married  293132                0        No   \n",
       "4             2  ...        Single   49606                0        No   \n",
       "...         ...  ...           ...     ...              ...       ...   \n",
       "1465          2  ...        Single   38508                0        No   \n",
       "1466          3  ...        Single   92995                3        No   \n",
       "1467          4  ...        Single   63375                0        No   \n",
       "1468          3  ...       Married   46521                0        No   \n",
       "1469          2  ...       Married   38258                0        No   \n",
       "\n",
       "        HireDate Attrition YearsAtCompany YearsInMostRecentRole  \\\n",
       "0     2012-01-03        No             10                     4   \n",
       "1     2012-01-04        No             10                     6   \n",
       "2     2012-01-04        No             10                     6   \n",
       "3     2012-01-05        No             10                    10   \n",
       "4     2012-01-05       Yes              6                     1   \n",
       "...          ...       ...            ...                   ...   \n",
       "1465  2022-12-26        No              0                     0   \n",
       "1466  2022-12-30        No              0                     0   \n",
       "1467  2022-12-30        No              0                     0   \n",
       "1468  2022-12-30        No              0                     0   \n",
       "1469  2022-12-31        No              0                     0   \n",
       "\n",
       "      YearsSinceLastPromotion  YearsWithCurrManager  \n",
       "0                           9                     7  \n",
       "1                          10                     0  \n",
       "2                          10                     8  \n",
       "3                          10                     0  \n",
       "4                           1                     6  \n",
       "...                       ...                   ...  \n",
       "1465                        0                     0  \n",
       "1466                        0                     0  \n",
       "1467                        0                     0  \n",
       "1468                        0                     0  \n",
       "1469                        0                     0  \n",
       "\n",
       "[1470 rows x 22 columns]"
      ]
     },
     "execution_count": 9,
     "metadata": {},
     "output_type": "execute_result"
    }
   ],
   "source": [
    "Employee_df = Employee_df[['EmployeeID','full_name','Gender','Age','BusinessTravel','Department','DistanceFromHome (KM)','State',\n",
    "                  'Ethnicity','Education','EducationField','JobRole','MaritalStatus','Salary','StockOptionLevel','OverTime',\n",
    "                  'HireDate','Attrition','YearsAtCompany','YearsInMostRecentRole','YearsSinceLastPromotion','YearsWithCurrManager']]\n",
    "Employee_df"
   ]
  },
  {
   "cell_type": "markdown",
   "id": "688f989a-9f4e-4d14-8d42-90961dddff24",
   "metadata": {},
   "source": [
    "## Rename columns"
   ]
  },
  {
   "cell_type": "code",
   "execution_count": 10,
   "id": "07f77642-d0c1-43e7-aa9c-a0a8430657f7",
   "metadata": {},
   "outputs": [],
   "source": [
    "Education_df = Education_df.rename(columns={'EducationLevelID': 'EducationID', 'EducationLevel': 'EducationLevel'})"
   ]
  },
  {
   "cell_type": "code",
   "execution_count": 11,
   "id": "1a369fce-17e2-43d3-8dd2-e6e6f00bb64a",
   "metadata": {},
   "outputs": [],
   "source": [
    "Employee_df = Employee_df.rename(columns={'BusinessTravel':'TravelFrequency', 'DistanceFromHome (KM)': 'DistanceFromHome',\n",
    "                                          'StockOptionsLevel': 'StockOptions','YearsInMostRecentRole': 'RecentRoleYears',\n",
    "                                          'YearsSinceLastPromotion': 'PromotionGapYears'})"
   ]
  },
  {
   "cell_type": "code",
   "execution_count": 12,
   "id": "f75273ba-0b04-4bc1-b8a8-6eb01f2026da",
   "metadata": {},
   "outputs": [],
   "source": [
    "Performance_df=Performance_df.rename(columns={'TrainingOpportunitiesWithinYear':'AnnualTrainingOpportunities',\n",
    "                                                'TrainingOpportunitiesTaken':'TrainingTaken'})"
   ]
  },
  {
   "cell_type": "markdown",
   "id": "d6703c6e-a28d-4f0a-8f8a-1ed9dbd97401",
   "metadata": {},
   "source": [
    "## Check validation of data"
   ]
  },
  {
   "cell_type": "markdown",
   "id": "4da47087-e5c6-4f2c-adc0-b327209630c8",
   "metadata": {},
   "source": [
    "## Data Info"
   ]
  },
  {
   "cell_type": "code",
   "execution_count": 13,
   "id": "44bbe585-9252-4dec-9ac8-24deafe56bff",
   "metadata": {},
   "outputs": [
    {
     "name": "stdout",
     "output_type": "stream",
     "text": [
      "<class 'pandas.core.frame.DataFrame'>\n",
      "RangeIndex: 5 entries, 0 to 4\n",
      "Data columns (total 2 columns):\n",
      " #   Column          Non-Null Count  Dtype \n",
      "---  ------          --------------  ----- \n",
      " 0   EducationID     5 non-null      int64 \n",
      " 1   EducationLevel  5 non-null      object\n",
      "dtypes: int64(1), object(1)\n",
      "memory usage: 212.0+ bytes\n"
     ]
    }
   ],
   "source": [
    "Education_df.info()"
   ]
  },
  {
   "cell_type": "code",
   "execution_count": 14,
   "id": "88dd008c-a6ed-45c0-b8fe-a3192f1ec328",
   "metadata": {},
   "outputs": [
    {
     "name": "stdout",
     "output_type": "stream",
     "text": [
      "<class 'pandas.core.frame.DataFrame'>\n",
      "RangeIndex: 1470 entries, 0 to 1469\n",
      "Data columns (total 22 columns):\n",
      " #   Column                Non-Null Count  Dtype \n",
      "---  ------                --------------  ----- \n",
      " 0   EmployeeID            1470 non-null   object\n",
      " 1   full_name             1470 non-null   object\n",
      " 2   Gender                1470 non-null   object\n",
      " 3   Age                   1470 non-null   int64 \n",
      " 4   TravelFrequency       1470 non-null   object\n",
      " 5   Department            1470 non-null   object\n",
      " 6   DistanceFromHome      1470 non-null   int64 \n",
      " 7   State                 1470 non-null   object\n",
      " 8   Ethnicity             1470 non-null   object\n",
      " 9   Education             1470 non-null   int64 \n",
      " 10  EducationField        1470 non-null   object\n",
      " 11  JobRole               1470 non-null   object\n",
      " 12  MaritalStatus         1470 non-null   object\n",
      " 13  Salary                1470 non-null   int64 \n",
      " 14  StockOptionLevel      1470 non-null   int64 \n",
      " 15  OverTime              1470 non-null   object\n",
      " 16  HireDate              1470 non-null   object\n",
      " 17  Attrition             1470 non-null   object\n",
      " 18  YearsAtCompany        1470 non-null   int64 \n",
      " 19  RecentRoleYears       1470 non-null   int64 \n",
      " 20  PromotionGapYears     1470 non-null   int64 \n",
      " 21  YearsWithCurrManager  1470 non-null   int64 \n",
      "dtypes: int64(9), object(13)\n",
      "memory usage: 252.8+ KB\n"
     ]
    }
   ],
   "source": [
    "Employee_df.info()"
   ]
  },
  {
   "cell_type": "code",
   "execution_count": 15,
   "id": "84ba6def-dc1e-4c5d-b91d-c5160b9f3f14",
   "metadata": {},
   "outputs": [
    {
     "name": "stdout",
     "output_type": "stream",
     "text": [
      "<class 'pandas.core.frame.DataFrame'>\n",
      "RangeIndex: 6709 entries, 0 to 6708\n",
      "Data columns (total 11 columns):\n",
      " #   Column                       Non-Null Count  Dtype \n",
      "---  ------                       --------------  ----- \n",
      " 0   PerformanceID                6709 non-null   object\n",
      " 1   EmployeeID                   6709 non-null   object\n",
      " 2   ReviewDate                   6709 non-null   object\n",
      " 3   EnvironmentSatisfaction      6709 non-null   int64 \n",
      " 4   JobSatisfaction              6709 non-null   int64 \n",
      " 5   RelationshipSatisfaction     6709 non-null   int64 \n",
      " 6   AnnualTrainingOpportunities  6709 non-null   int64 \n",
      " 7   TrainingTaken                6709 non-null   int64 \n",
      " 8   WorkLifeBalance              6709 non-null   int64 \n",
      " 9   SelfRating                   6709 non-null   int64 \n",
      " 10  ManagerRating                6709 non-null   int64 \n",
      "dtypes: int64(8), object(3)\n",
      "memory usage: 576.7+ KB\n"
     ]
    }
   ],
   "source": [
    "Performance_df.info()"
   ]
  },
  {
   "cell_type": "code",
   "execution_count": 16,
   "id": "67bd67d3-610a-43a1-aa89-a81885ece479",
   "metadata": {},
   "outputs": [
    {
     "name": "stdout",
     "output_type": "stream",
     "text": [
      "<class 'pandas.core.frame.DataFrame'>\n",
      "RangeIndex: 5 entries, 0 to 4\n",
      "Data columns (total 2 columns):\n",
      " #   Column       Non-Null Count  Dtype \n",
      "---  ------       --------------  ----- \n",
      " 0   RatingID     5 non-null      int64 \n",
      " 1   RatingLevel  5 non-null      object\n",
      "dtypes: int64(1), object(1)\n",
      "memory usage: 212.0+ bytes\n"
     ]
    }
   ],
   "source": [
    "Rating_df.info()"
   ]
  },
  {
   "cell_type": "code",
   "execution_count": 17,
   "id": "e8fcb1d1-940c-4079-ad0d-fe2771741cb9",
   "metadata": {},
   "outputs": [
    {
     "name": "stdout",
     "output_type": "stream",
     "text": [
      "<class 'pandas.core.frame.DataFrame'>\n",
      "RangeIndex: 5 entries, 0 to 4\n",
      "Data columns (total 2 columns):\n",
      " #   Column             Non-Null Count  Dtype \n",
      "---  ------             --------------  ----- \n",
      " 0   SatisfactionID     5 non-null      int64 \n",
      " 1   SatisfactionLevel  5 non-null      object\n",
      "dtypes: int64(1), object(1)\n",
      "memory usage: 212.0+ bytes\n"
     ]
    }
   ],
   "source": [
    "Satisfied_df.info()"
   ]
  },
  {
   "cell_type": "markdown",
   "id": "e1733d60-6947-4cb6-89ba-887253c76a4f",
   "metadata": {},
   "source": [
    "### check zero value in columns of Employee"
   ]
  },
  {
   "cell_type": "code",
   "execution_count": 18,
   "id": "b63a1a9e-4d2e-4ee2-ac59-d6fdae0a116d",
   "metadata": {},
   "outputs": [
    {
     "name": "stdout",
     "output_type": "stream",
     "text": [
      "Columns with zero values:\n",
      "StockOptionLevel        631\n",
      "YearsAtCompany          190\n",
      "RecentRoleYears         499\n",
      "PromotionGapYears       301\n",
      "YearsWithCurrManager    479\n",
      "dtype: int64\n"
     ]
    }
   ],
   "source": [
    "def check_zero_values_in_numeric_columns(Employee_df):\n",
    "    numeric_df = Employee_df.select_dtypes(include=[int, float])\n",
    "    \n",
    "    zero_values = (numeric_df == 0).sum()\n",
    "    \n",
    "    zero_columns = zero_values[zero_values > 0]\n",
    "    \n",
    "    if not zero_columns.empty:\n",
    "        print(\"Columns with zero values:\")\n",
    "        print(zero_columns)\n",
    "    else:\n",
    "        print(\"No zero values found in the numeric columns.\")\n",
    "\n",
    "check_zero_values_in_numeric_columns(Employee_df)\n"
   ]
  },
  {
   "cell_type": "markdown",
   "id": "da2c0a2e-53d1-4102-bb36-9de5309ff9c6",
   "metadata": {},
   "source": [
    "### check negative value in columns of Employee"
   ]
  },
  {
   "cell_type": "code",
   "execution_count": 19,
   "id": "63da88bf-bfb7-4a10-abd8-627ed4b2b2ab",
   "metadata": {},
   "outputs": [
    {
     "name": "stdout",
     "output_type": "stream",
     "text": [
      "No employees found with negative values in numeric columns.\n"
     ]
    }
   ],
   "source": [
    "def find_employees_with_negative_in_numeric_columns(Employee_df):\n",
    "    numeric_df = Employee_df.select_dtypes(include=[int, float])\n",
    "    \n",
    "    negative_columns = (numeric_df < 0).any()\n",
    "    negative_columns = negative_columns[negative_columns].index  \n",
    "    negative_employees = Employee_df[numeric_df[negative_columns].lt(0).any(axis=1)]\n",
    "    \n",
    "    if not negative_employees.empty:\n",
    "        print(\"Employees with negative values in numeric columns:\")\n",
    "        print(negative_employees[[id_column, name_column] + list(negative_columns)])\n",
    "    else:\n",
    "        print(\"No employees found with negative values in numeric columns.\")\n",
    "\n",
    "find_employees_with_negative_in_numeric_columns(Employee_df)"
   ]
  },
  {
   "cell_type": "markdown",
   "id": "3e389378-1ae0-4763-9c1b-cfe7a98468c2",
   "metadata": {},
   "source": [
    "### check zero value in columns of Performance"
   ]
  },
  {
   "cell_type": "code",
   "execution_count": 20,
   "id": "e16f1c5b-6edb-48fc-aae7-7845cb9f063f",
   "metadata": {},
   "outputs": [
    {
     "name": "stdout",
     "output_type": "stream",
     "text": [
      "Columns with zero values:\n",
      "TrainingTaken    2372\n",
      "dtype: int64\n"
     ]
    }
   ],
   "source": [
    "def check_zero_values_in_numeric_columnsP(Performance_df):\n",
    "    numeric_df = Performance_df.select_dtypes(include=[int, float])\n",
    "    \n",
    "    zero_values = (numeric_df == 0).sum()\n",
    "    \n",
    "    zero_columns = zero_values[zero_values > 0]\n",
    "    \n",
    "    if not zero_columns.empty:\n",
    "        print(\"Columns with zero values:\")\n",
    "        print(zero_columns)\n",
    "    else:\n",
    "        print(\"No zero values found in the numeric columns.\")\n",
    "\n",
    "check_zero_values_in_numeric_columnsP(Performance_df)"
   ]
  },
  {
   "cell_type": "markdown",
   "id": "0609a10e-387f-409c-85f3-49b75f4072e5",
   "metadata": {},
   "source": [
    "### check negative value in columns of performance"
   ]
  },
  {
   "cell_type": "code",
   "execution_count": 21,
   "id": "a10153d7-6326-4fc6-adaa-e21384be450c",
   "metadata": {},
   "outputs": [
    {
     "name": "stdout",
     "output_type": "stream",
     "text": [
      "No Performance found with negative values in numeric columns.\n"
     ]
    }
   ],
   "source": [
    "def find_Performance_with_negative_in_numeric_columns(Performance_df):\n",
    "    numeric_df = Performance_df.select_dtypes(include=[int, float])\n",
    "    \n",
    "    negative_columns = (numeric_df < 0).any()\n",
    "    negative_columns = negative_columns[negative_columns].index  \n",
    "    negative_Performance = Performance_df[numeric_df[negative_columns].lt(0).any(axis=1)]\n",
    "    \n",
    "    if not negative_Performance.empty:\n",
    "        print(\"Performance with negative values in numeric columns:\")\n",
    "        print(negative_Performance[[id_column, name_column] + list(negative_columns)])\n",
    "    else:\n",
    "        print(\"No Performance found with negative values in numeric columns.\")\n",
    "\n",
    "find_Performance_with_negative_in_numeric_columns(Performance_df)"
   ]
  },
  {
   "cell_type": "markdown",
   "id": "30211494-e234-49f2-a8cf-e41d1ec33cb8",
   "metadata": {},
   "source": [
    "### check the validity of foreign keys"
   ]
  },
  {
   "cell_type": "code",
   "execution_count": 22,
   "id": "8f25290a-78c7-412b-919d-80b57bab4247",
   "metadata": {},
   "outputs": [
    {
     "name": "stdout",
     "output_type": "stream",
     "text": [
      "Do all value is the define column from 1 to 5 ?\n",
      " True\n"
     ]
    }
   ],
   "source": [
    "columns_to_check = ['EnvironmentSatisfaction', 'JobSatisfaction', 'RelationshipSatisfaction','WorkLifeBalance',\n",
    "                    'SelfRating','ManagerRating']\n",
    "valid_values = Performance_df[columns_to_check].apply(lambda col: col.between(1, 5))\n",
    "\n",
    "all_columns_valid = valid_values.all().all()\n",
    "\n",
    "print(\"Do all value is the define column from 1 to 5 ?\\n\", all_columns_valid)"
   ]
  },
  {
   "cell_type": "markdown",
   "id": "ab3c939a-fa35-4091-b6ea-83aba2f22f07",
   "metadata": {},
   "source": [
    "## check  the duplicate"
   ]
  },
  {
   "cell_type": "code",
   "execution_count": 23,
   "id": "45b67d07-8b6d-48b5-8cd7-e34bc85e3bae",
   "metadata": {},
   "outputs": [
    {
     "name": "stdout",
     "output_type": "stream",
     "text": [
      "All values in column 'EmployeeID' are unique.\n"
     ]
    }
   ],
   "source": [
    "if Employee_df['EmployeeID'].is_unique:\n",
    "    print(\"All values in column 'EmployeeID' are unique.\")\n",
    "else:\n",
    "    print(\"Column 'EmployeeID' contains duplicate values.\")"
   ]
  },
  {
   "cell_type": "code",
   "execution_count": 24,
   "id": "61512763-3913-4bfe-a6f6-ca10aa022a55",
   "metadata": {},
   "outputs": [
    {
     "name": "stdout",
     "output_type": "stream",
     "text": [
      "All values in column 'PerformanceID' are unique.\n"
     ]
    }
   ],
   "source": [
    "if Performance_df['PerformanceID'].is_unique:\n",
    "    print(\"All values in column 'PerformanceID' are unique.\")\n",
    "else:\n",
    "    print(\"Column 'PerformanceID' contains duplicate values.\")"
   ]
  },
  {
   "cell_type": "markdown",
   "id": "cf7b977f-e1f9-45e6-8d3f-394a30e6dbaa",
   "metadata": {},
   "source": [
    "## Merge the table of Employee with the table of Education"
   ]
  },
  {
   "cell_type": "code",
   "execution_count": 25,
   "id": "8194da3d-c2b3-4eff-9213-2ac37f1d98fb",
   "metadata": {},
   "outputs": [],
   "source": [
    "Employees_df = pd.merge(Employee_df, Education_df, left_on='Education', right_on='EducationID', how='inner')"
   ]
  },
  {
   "cell_type": "code",
   "execution_count": 26,
   "id": "ca35e2e7-b1bd-4410-86f0-b6200df9ba7b",
   "metadata": {},
   "outputs": [],
   "source": [
    "Employees_df = Employees_df.drop(['Education', 'EducationID'], axis=1)"
   ]
  },
  {
   "cell_type": "code",
   "execution_count": 27,
   "id": "0edc395e-183e-4287-986b-d8edc7c94592",
   "metadata": {},
   "outputs": [],
   "source": [
    "Employees_df = Employees_df[['EmployeeID','full_name','Gender','Age','TravelFrequency','Department','DistanceFromHome','State',\n",
    "                  'Ethnicity','EducationLevel','EducationField','JobRole','MaritalStatus','Salary','StockOptionLevel','OverTime',\n",
    "                  'HireDate','Attrition','YearsAtCompany','RecentRoleYears','PromotionGapYears','YearsWithCurrManager']]"
   ]
  },
  {
   "cell_type": "code",
   "execution_count": 28,
   "id": "cbb58334-a9de-47eb-9a79-56d8da0aa75f",
   "metadata": {},
   "outputs": [],
   "source": [
    "Employees_df=pd.read_csv(r'E:\\final project of analysis\\HR_modify\\Employees.csv')"
   ]
  },
  {
   "cell_type": "markdown",
   "id": "852d1ee4-71b3-4ba6-a3df-6369b1acae24",
   "metadata": {},
   "source": [
    "## Delete illogical values in perofrmance"
   ]
  },
  {
   "cell_type": "code",
   "execution_count": 29,
   "id": "9e16d721-9a8c-4806-aed0-2078de61c737",
   "metadata": {},
   "outputs": [
    {
     "name": "stdout",
     "output_type": "stream",
     "text": [
      "     PerformanceID EmployeeID ReviewDate  EnvironmentSatisfaction  \\\n",
      "0             PR01  79F7-78EC   1/2/2013                        5   \n",
      "6             PR07  9E7A-1F70   1/8/2013                        3   \n",
      "9             PR10  774E-685D  1/11/2013                        5   \n",
      "10           PR100  B013-7D0C  4/10/2013                        4   \n",
      "11          PR1000  528C-3E0D  3/16/2016                        4   \n",
      "...            ...        ...        ...                      ...   \n",
      "6702         PR993  56A5-271B  3/13/2016                        4   \n",
      "6703         PR994  B3FE-D332  3/13/2016                        4   \n",
      "6705         PR996  7C80-94E0  3/14/2016                        3   \n",
      "6706         PR997  8233-2483  3/14/2016                        3   \n",
      "6707         PR998  8A5B-3D6E  3/15/2016                        5   \n",
      "\n",
      "      JobSatisfaction  RelationshipSatisfaction  AnnualTrainingOpportunities  \\\n",
      "0                   4                         5                            1   \n",
      "6                   4                         5                            2   \n",
      "9                   4                         3                            2   \n",
      "10                  3                         3                            2   \n",
      "11                  4                         2                            2   \n",
      "...               ...                       ...                          ...   \n",
      "6702                2                         2                            1   \n",
      "6703                4                         3                            1   \n",
      "6705                5                         4                            2   \n",
      "6706                4                         2                            3   \n",
      "6707                2                         5                            2   \n",
      "\n",
      "      TrainingTaken  WorkLifeBalance  SelfRating  ManagerRating  \n",
      "0                 0                4           4              4  \n",
      "6                 1                5           4              3  \n",
      "9                 3                4           5              4  \n",
      "10                0                4           3              3  \n",
      "11                2                4           5              5  \n",
      "...             ...              ...         ...            ...  \n",
      "6702              1                4           4              3  \n",
      "6703              1                3           4              3  \n",
      "6705              1                3           4              4  \n",
      "6706              1                2           3              2  \n",
      "6707              2                4           3              3  \n",
      "\n",
      "[5136 rows x 11 columns]\n"
     ]
    }
   ],
   "source": [
    "# Assuming Employees_df and Performance_df are your DataFrames\n",
    "\n",
    "# Step 1: Merge the Employees and Performance DataFrames on EmployeeID\n",
    "merged_df = pd.merge(Performance_df, Employees_df[['EmployeeID', 'Attrition', 'HireDate', 'AttritionYear']], on='EmployeeID')\n",
    "\n",
    "# Step 2: Convert HireDate and ReviewDate to datetime if they aren't already\n",
    "merged_df['HireDate'] = pd.to_datetime(merged_df['HireDate'])\n",
    "merged_df['ReviewDate'] = pd.to_datetime(merged_df['ReviewDate'])\n",
    "\n",
    "# Step 3: Create a mask for employees who have left the company (Attrition = 'Yes')\n",
    "mask_left = (\n",
    "    (merged_df['Attrition'] == 'Yes') &\n",
    "    ((merged_df['ReviewDate'].dt.year < merged_df['HireDate'].dt.year) |\n",
    "     (merged_df['ReviewDate'].dt.year > merged_df['AttritionYear'].fillna(0).astype(int)))\n",
    ")\n",
    "\n",
    "# Step 4: Create a mask for employees who have not left the company (Attrition = 'No')\n",
    "mask_not_left = (\n",
    "    (merged_df['Attrition'] == 'No') &\n",
    "    (merged_df['ReviewDate'].dt.year < merged_df['HireDate'].dt.year)\n",
    ")\n",
    "\n",
    "# Step 5: Combine both conditions using an OR operator\n",
    "mask_to_remove = mask_left | mask_not_left\n",
    "\n",
    "# Step 6: Filter out rows where the condition is met (i.e., remove these rows from Performance_df)\n",
    "performance_filtered = Performance_df[~Performance_df['PerformanceID'].isin(merged_df.loc[mask_to_remove, 'PerformanceID'])]\n",
    "\n",
    "# Step 7: Optionally, assign back to Performance_df if you want to overwrite the original DataFrame\n",
    "Performance_df = performance_filtered\n",
    "\n",
    "# Print the resulting DataFrame\n",
    "print(Performance_df)"
   ]
  },
  {
   "cell_type": "markdown",
   "id": "5eedd61e-fbf5-403c-aac5-c017d681b8f9",
   "metadata": {},
   "source": [
    "##  Store modified files"
   ]
  },
  {
   "cell_type": "code",
   "execution_count": 30,
   "id": "cdf1452e-3d21-4f24-8b6b-03dcb0afae60",
   "metadata": {},
   "outputs": [],
   "source": [
    "#path=(r\"E:\\final project of analysis\\HR _modify\")\n",
    "#Employees_df.to_excel(path + 'Employees.xlsx', index=False)\n",
    "#Education_df.to_excel(path + 'Education.xlsx', index=False)\n",
    "#Performance_df.to_excel(path + 'Performance.xlsx', index=False)\n",
    "#Rating_df.to_excel(path + 'Rating.xlsx', index=False)\n",
    "#Satisfied_df.to_excel(path + 'Satisfied.xlsx', index=False)"
   ]
  },
  {
   "cell_type": "markdown",
   "id": "ce5aa747-e6f9-4974-9fab-3a005e2d0ef9",
   "metadata": {},
   "source": [
    "# Analysis Data"
   ]
  },
  {
   "cell_type": "markdown",
   "id": "0ae8ff77-2568-487e-82f0-2c8df9117e8f",
   "metadata": {},
   "source": [
    "## Questions about the employee turnover rate"
   ]
  },
  {
   "cell_type": "markdown",
   "id": "1df4eea2-7e45-44ee-a412-bd1fed6e61aa",
   "metadata": {},
   "source": [
    "## Q1: Show if salary has Outliers"
   ]
  },
  {
   "cell_type": "code",
   "execution_count": 31,
   "id": "20e1327b-95ce-4dea-ad79-76b0cbb8fb56",
   "metadata": {},
   "outputs": [
    {
     "name": "stdout",
     "output_type": "stream",
     "text": [
      "Mean: 112956.49795918367\n",
      "Median: 71199.5\n",
      "Mode: 26973\n",
      "IQR: 98475.25\n",
      "Lower Bound: -104132.375, Upper Bound: 289768.625\n",
      "Number of outliers: 124\n"
     ]
    },
    {
     "data": {
      "image/png": "[encoded data removed]",
      "text/plain": [
       "<Figure size 1000x600 with 1 Axes>"
      ]
     },
     "metadata": {},
     "output_type": "display_data"
    }
   ],
   "source": [
    "mean_value = Employees_df['Salary'].mean()\n",
    "median_value = Employees_df['Salary'].median()\n",
    "mode_value = Employees_df['Salary'].mode()[0]\n",
    "\n",
    "Q1 = Employees_df['Salary'].quantile(0.25)\n",
    "Q3 = Employees_df['Salary'].quantile(0.75)\n",
    "IQR = Q3 - Q1\n",
    "\n",
    "lower_bound = Q1 - 1.5 * IQR\n",
    "upper_bound = Q3 + 1.5 * IQR\n",
    "\n",
    "outliers = Employees_df[(Employees_df['Salary'] < lower_bound) | (Employees_df['Salary'] > upper_bound)]\n",
    "print(f\"Mean: {mean_value}\")\n",
    "print(f\"Median: {median_value}\")\n",
    "print(f\"Mode: {mode_value}\")\n",
    "print(f\"IQR: {IQR}\")\n",
    "print(f\"Lower Bound: {lower_bound}, Upper Bound: {upper_bound}\")\n",
    "print(f\"Number of outliers: {len(outliers)}\")\n",
    "plt.figure(figsize=(10, 6))\n",
    "\n",
    "sns.boxplot(x=Employees_df['Salary'], color='#D8BFD8')\n",
    "\n",
    "plt.axvline(mean_value, color='green', linestyle='--', label='Mean')\n",
    "plt.axvline(median_value, color='blue', linestyle='-', label='Median')\n",
    "plt.axvline(mode_value, color='Yellow', linestyle='-', label='Mode')\n",
    "\n",
    "plt.title(\"Distribution of Values with Mean, Median, and Mode\")\n",
    "plt.legend()\n",
    "plt.show()"
   ]
  },
  {
   "cell_type": "markdown",
   "id": "267e794b-4cff-44f1-8dcc-7282bf17e9b8",
   "metadata": {},
   "source": [
    "## ______________________________________________________________________________________________________"
   ]
  },
  {
   "cell_type": "markdown",
   "id": "d5359860-fdf3-4b89-b594-14e8d67e4b51",
   "metadata": {},
   "source": [
    "### Q2: Avg Salary by job Role in each year"
   ]
  },
  {
   "cell_type": "code",
   "execution_count": null,
   "id": "ec269128-bbd7-472e-a1bb-cef8f9bd0cb8",
   "metadata": {},
   "outputs": [
    {
     "data": {
      "image/png": "[encoded data removed]",
      "text/plain": [
       "<Figure size 1000x500 with 1 Axes>"
      ]
     },
     "metadata": {},
     "output_type": "display_data"
    },
    {
     "data": {
      "image/png": "[encoded data removed]",
      "text/plain": [
       "<Figure size 1000x500 with 1 Axes>"
      ]
     },
     "metadata": {},
     "output_type": "display_data"
    },
    {
     "data": {
      "image/png": "[encoded data removed]",
      "text/plain": [
       "<Figure size 1000x500 with 1 Axes>"
      ]
     },
     "metadata": {},
     "output_type": "display_data"
    },
    {
     "data": {
      "image/png": "[encoded data removed]",
      "text/plain": [
       "<Figure size 1000x500 with 1 Axes>"
      ]
     },
     "metadata": {},
     "output_type": "display_data"
    },
    {
     "data": {
      "image/png": "[encoded data removed]",
      "text/plain": [
       "<Figure size 1000x500 with 1 Axes>"
      ]
     },
     "metadata": {},
     "output_type": "display_data"
    }
   ],
   "source": [
    "if 'JobRole' in Employees_df.columns and 'HireDate' in Employees_df.columns and 'Salary' in Employees_df.columns:\n",
    "    # Extract the hire year from the HireDate column\n",
    "    Employees_df['HireYear'] = pd.to_datetime(Employees_df['HireDate']).dt.year\n",
    "\n",
    "    # Get unique job roles\n",
    "    job_roles = Employees_df['JobRole'].unique()\n",
    "\n",
    "    # Create a plot for each job role\n",
    "    for job_role in job_roles:\n",
    "        # Filter data for each Job Role\n",
    "        job_role_data = Employees_df[Employees_df['JobRole'] == job_role]\n",
    "\n",
    "        # Calculate average salary by hire year\n",
    "        avg_salary_by_hireyear = job_role_data.groupby('HireYear')['Salary'].mean().reset_index()\n",
    "\n",
    "        # Set up the plotJJ\n",
    "        plt.figure(figsize=(10, 5))\n",
    "\n",
    "        # Create a line plot for average salary with purple color\n",
    "        sns.lineplot(x='HireYear', y='Salary', data=avg_salary_by_hireyear, marker='o', color='purple')\n",
    "\n",
    "        # Add titles and labels with purple color\n",
    "        plt.title(f'Average Salary by Hire Year for {job_role}', color='Black')\n",
    "        plt.xlabel('Year of Hire', color='Black')\n",
    "        plt.ylabel('Average Salary', color='Black')\n",
    "\n",
    "        # Improve the plot appearance\n",
    "        plt.grid(True)\n",
    "\n",
    "        # Show the plot\n",
    "        plt.show()\n",
    "else:\n",
    "    print(\"One or more required columns ('JobRole', 'HireDate', 'Salary') are missing in the dataset.\") "
   ]
  },
  {
   "cell_type": "markdown",
   "id": "ab4801d7-c799-4f67-ac0a-3484ed1d6043",
   "metadata": {},
   "source": [
    "### Q3: The Rate of Attration and Hirring"
   ]
  },
  {
   "cell_type": "code",
   "execution_count": null,
   "id": "fab1d255-dd35-42c6-8988-6b575d597e75",
   "metadata": {
    "scrolled": true
   },
   "outputs": [],
   "source": [
    "Employees_df['HireYear'] = pd.to_datetime(Employees_df['HireDate']).dt.year\n",
    "attrition_by_role_year = Employees_df[Employees_df['Attrition'] == 'Yes'].groupby(['JobRole', 'AttritionYear']).size().unstack(fill_value=0)\n",
    "\n",
    "hiring_by_role_year = Employees_df.groupby(['JobRole', 'HireYear']).size().unstack(fill_value=0)\n",
    "\n",
    "job_roles = Employees_df['JobRole'].unique()\n",
    "\n",
    "for job_role in job_roles:\n",
    "    plt.figure(figsize=(10, 5))\n",
    "    \n",
    "    if job_role in attrition_by_role_year.index:\n",
    "        plt.plot(attrition_by_role_year.columns, attrition_by_role_year.loc[job_role], label='Attrition Rate', color='gray', marker='o')\n",
    "    \n",
    "    if job_role in hiring_by_role_year.index:\n",
    "        plt.plot(hiring_by_role_year.columns, hiring_by_role_year.loc[job_role], label='Hiring Rate', color='purple', marker='o')\n",
    "\n",
    "    plt.title(f'Attrition and Hiring Rate for {job_role}')\n",
    "    plt.xlabel('Year')\n",
    "    plt.ylabel('Number of Employees')\n",
    "    plt.legend()\n",
    "\n",
    "    plt.grid(True)\n",
    "    plt.show()\n"
   ]
  },
  {
   "cell_type": "markdown",
   "id": "ad78a13a-2a2b-469f-9480-da58abd7a5f3",
   "metadata": {},
   "source": [
    "### Q4: Number of Employees in Each State"
   ]
  },
  {
   "cell_type": "code",
   "execution_count": null,
   "id": "f83bd603-82c3-4d3d-86f6-0e6582e82043",
   "metadata": {},
   "outputs": [],
   "source": [
    "# Assuming Employees_df is already loaded\n",
    "\n",
    "# Count the number of employees in each state\n",
    "state_counts = Employees_df['State'].value_counts().reset_index()\n",
    "state_counts.columns = ['State', 'EmployeeCount']\n",
    "\n",
    "# Set plot style\n",
    "sns.set(style=\"whitegrid\")\n",
    "\n",
    "# Create a bar plot with purple color palette\n",
    "plt.figure(figsize=(12, 6))\n",
    "sns.barplot(data=state_counts, x='State', y='EmployeeCount', hue='State', palette='Purples_r')\n",
    "\n",
    "# Add title and labels\n",
    "plt.title('Number of Employees in Each State', fontsize=14)\n",
    "plt.xlabel('State', fontsize=12)\n",
    "plt.ylabel('Employee Count', fontsize=12)\n",
    "plt.xticks(rotation=45)\n",
    "plt.tight_layout()  # Adjust layout to prevent clipping of tick-labels\n",
    "\n",
    "# Display the plot\n",
    "plt.show()"
   ]
  },
  {
   "cell_type": "markdown",
   "id": "1f5b927f-a28e-4cb1-80e5-893015a89bec",
   "metadata": {},
   "source": [
    "### Q4:Attration Rate by State"
   ]
  },
  {
   "cell_type": "code",
   "execution_count": null,
   "id": "3f5f8291-0bf8-440b-94c1-4d5ee5d0b28c",
   "metadata": {},
   "outputs": [],
   "source": [
    "# Assuming Employees_df is already loaded\n",
    "# Employees_df = pd.read_excel('path_to_your_file/modify.xlsx', sheet_name='Employees')\n",
    "\n",
    "# Calculate total employees and employees with attrition = 'Yes' per state\n",
    "state_counts = Employees_df.groupby('State').size().reset_index(name='TotalEmployees')\n",
    "\n",
    "attrition_counts = (\n",
    "    Employees_df[Employees_df['Attrition'] == 'Yes']\n",
    "    .groupby('State')\n",
    "    .size()\n",
    "    .reset_index(name='AttritionCount')\n",
    ")\n",
    "\n",
    "# Merge the two DataFrames to calculate attrition rate\n",
    "merged_data = pd.merge(state_counts, attrition_counts, on='State', how='left')\n",
    "\n",
    "# Handle states with no attrition\n",
    "merged_data['AttritionCount'] = merged_data['AttritionCount'].fillna(0)\n",
    "\n",
    "# Calculate the attrition rate\n",
    "merged_data['AttritionRate'] = (merged_data['AttritionCount'] / merged_data['TotalEmployees']) * 100\n",
    "\n",
    "# Set plot style\n",
    "sns.set(style=\"whitegrid\")\n",
    "\n",
    "# Create a bar plot for attrition rate\n",
    "plt.figure(figsize=(12, 6))\n",
    "sns.barplot(data=merged_data, x='State', y='AttritionRate', hue='State', palette='Purples_r')\n",
    "\n",
    "# Add title and labels\n",
    "plt.title('Attrition Rate per State', fontsize=14)\n",
    "plt.xlabel('State', fontsize=12)\n",
    "plt.ylabel('Attrition Rate (%)', fontsize=12)\n",
    "plt.xticks(rotation=45)\n",
    "plt.tight_layout()  # Adjust layout to prevent label clipping\n",
    "\n",
    "# Display the plot\n",
    "plt.show()\n",
    "\n",
    "# Display the merged data for reference\n",
    "print(merged_data[['State', 'TotalEmployees', 'AttritionCount', 'AttritionRate']])"
   ]
  },
  {
   "cell_type": "markdown",
   "id": "a9bc0342-5cf6-443a-a038-eb2f2f0a8cc5",
   "metadata": {},
   "source": [
    "### Q5: Rate of Attration in each state in each job role"
   ]
  },
  {
   "cell_type": "code",
   "execution_count": null,
   "id": "d1cb669e-238f-49d9-98f2-a51f7eb75e43",
   "metadata": {},
   "outputs": [],
   "source": [
    "# Group and calculate attrition count and total count by 'State' and 'JobRole'\n",
    "attrition_data = Employee_df[Employee_df['Attrition'] == 'Yes']\n",
    "attrition_count = attrition_data.groupby(['State', 'JobRole']).size().reset_index(name='AttritionCount')\n",
    "total_count = Employee_df.groupby(['State', 'JobRole']).size().reset_index(name='TotalCount')\n",
    "\n",
    "# Merge to calculate attrition rate\n",
    "merged_df = pd.merge(total_count, attrition_count, on=['State', 'JobRole'], how='left')\n",
    "merged_df['AttritionCount'] = merged_df['AttritionCount'].fillna(0)  # Handle NaN values\n",
    "merged_df['AttritionRate'] = (merged_df['AttritionCount'] / merged_df['TotalCount']) * 100\n",
    "\n",
    "# Plotting using Seaborn with shades of purple\n",
    "plt.figure(figsize=(15, 8))\n",
    "sns.set_palette(\"Purples\")  # Set color palette to purple shades\n",
    "\n",
    "# Create a bar plot with Seaborn\n",
    "sns.barplot(\n",
    "    data=merged_df,\n",
    "    x='JobRole',\n",
    "    y='AttritionRate',\n",
    "    hue='State'\n",
    ")\n",
    "\n",
    "# Customize the plot\n",
    "plt.xticks(rotation=45, ha='right')\n",
    "plt.xlabel('Job Role')\n",
    "plt.ylabel('Attrition Rate (%)')\n",
    "plt.title('Attrition Rate by State and Job Role')\n",
    "plt.legend(title='State', bbox_to_anchor=(1.05, 1), loc='upper left')  # Adjust legend position\n",
    "plt.tight_layout()\n",
    "\n",
    "# Display the plot\n",
    "plt.show()"
   ]
  },
  {
   "cell_type": "markdown",
   "id": "45fd52e2-8f6c-46c4-abbc-b82f172994e8",
   "metadata": {},
   "source": [
    "### Q6: Attrition Rate by Travel frequancy"
   ]
  },
  {
   "cell_type": "code",
   "execution_count": null,
   "id": "eea5fab8-1b94-447e-9203-36ad046d1831",
   "metadata": {},
   "outputs": [],
   "source": [
    "# Assuming Employees_df is already loaded\n",
    "# Employees_df = pd.read_excel('path_to_your_file/modify.xlsx', sheet_name='Employees')\n",
    "\n",
    "# Calculate total employees and employees with attrition = 'Yes' for each travel frequency\n",
    "travel_counts = Employees_df.groupby('TravelFrequency').size().reset_index(name='TotalEmployees')\n",
    "\n",
    "attrition_travel_counts = (\n",
    "    Employees_df[Employees_df['Attrition'] == 'Yes']\n",
    "    .groupby('TravelFrequency')\n",
    "    .size()\n",
    "    .reset_index(name='AttritionCount')\n",
    ")\n",
    "\n",
    "# Merge the two DataFrames to calculate attrition rate\n",
    "merged_data = pd.merge(travel_counts, attrition_travel_counts, on='TravelFrequency', how='left')\n",
    "\n",
    "# Handle travel frequencies with no attrition\n",
    "merged_data['AttritionCount'] = merged_data['AttritionCount'].fillna(0)\n",
    "\n",
    "# Calculate the attrition rate\n",
    "merged_data['AttritionRate'] = (merged_data['AttritionCount'] / merged_data['TotalEmployees']) * 100\n",
    "\n",
    "# Set plot style\n",
    "sns.set(style=\"whitegrid\")\n",
    "\n",
    "# Create a bar plot for attrition rate by travel frequency\n",
    "plt.figure(figsize=(8, 6))\n",
    "sns.barplot(data=merged_data, x='TravelFrequency', y='AttritionRate',hue='TravelFrequency', palette='Purples')\n",
    "\n",
    "# Add title and labels\n",
    "plt.title('Attrition Rate by Travel Frequency', fontsize=14)\n",
    "plt.xlabel('Travel Frequency', fontsize=12)\n",
    "plt.ylabel('Attrition Rate (%)', fontsize=12)\n",
    "\n",
    "# Display the plot\n",
    "plt.show()\n",
    "\n",
    "# Display the merged data for reference\n",
    "print(merged_data[['TravelFrequency', 'TotalEmployees', 'AttritionCount', 'AttritionRate']])"
   ]
  },
  {
   "cell_type": "markdown",
   "id": "7fed4858-0b0a-4870-86a1-b3e77e2191be",
   "metadata": {},
   "source": [
    "### Q7: Attrition Rate by Job Role and Travel Frequency"
   ]
  },
  {
   "cell_type": "code",
   "execution_count": null,
   "id": "8a669620-e6bd-4dba-95e0-d19e6bc1d0e0",
   "metadata": {},
   "outputs": [],
   "source": [
    "# Assuming Employees_df contains 'JobRole', 'TravelFrequency', and 'Attrition'\n",
    "\n",
    "# Step 1: Count total employees by JobRole and TravelFrequency\n",
    "total_by_travel_role = Employees_df.groupby(['JobRole', 'TravelFrequency']).size().reset_index(name='Total')\n",
    "\n",
    "# Step 2: Count employees who left the company (Attrition == 'Yes') by JobRole and TravelFrequency\n",
    "attrition_by_travel_role = Employees_df[Employees_df['Attrition'] == 'Yes'].groupby(['JobRole', 'TravelFrequency']).size().reset_index(name='Left')\n",
    "\n",
    "# Step 3: Merge the two dataframes to get the total and the left employees in the same table\n",
    "travel_role_attrition = pd.merge(total_by_travel_role, attrition_by_travel_role, on=['JobRole', 'TravelFrequency'], how='left')\n",
    "\n",
    "# Step 4: Fill NaN values in the 'Left' column with 0 (no one left in that category)\n",
    "travel_role_attrition['Left'] = travel_role_attrition['Left'].fillna(0)\n",
    "\n",
    "# Step 5: Calculate the Attrition Rate for each combination of JobRole and TravelFrequency\n",
    "travel_role_attrition['AttritionRate'] = (travel_role_attrition['Left'] / travel_role_attrition['Total']) * 100\n",
    "\n",
    "# Step 6: Plot the data using a grouped barplot\n",
    "plt.figure(figsize=(14, 8))\n",
    "\n",
    "# Grouped bar plot showing attrition rate by JobRole and TravelFrequency\n",
    "sns.barplot(x='JobRole', y='AttritionRate', hue='TravelFrequency', data=travel_role_attrition, palette='Purples')\n",
    "\n",
    "# Add labels and title\n",
    "plt.title('Attrition Rate by Job Role and Travel Frequency', color='purple')\n",
    "plt.xlabel('Job Role', color='purple')\n",
    "plt.ylabel('Attrition Rate (%)', color='purple')\n",
    "\n",
    "# Rotate x labels for better readability\n",
    "plt.xticks(rotation=45)\n",
    "\n",
    "# Display the plot\n",
    "plt.tight_layout()\n",
    "plt.show()"
   ]
  },
  {
   "cell_type": "markdown",
   "id": "d93ddff9-bec9-4302-8c70-8acd2fc8f11f",
   "metadata": {},
   "source": [
    "## Q8: The year at company & Attration "
   ]
  },
  {
   "cell_type": "code",
   "execution_count": null,
   "id": "393da149-e152-4e99-8481-6a6f6a37bd9e",
   "metadata": {},
   "outputs": [],
   "source": [
    "if 'Attrition' in Employees_df.columns and 'YearsAtCompany' in Employees_df.columns and 'Department' in Employees_df.columns:\n",
    "    # تصفية الموظفين الذين تركوا الشركة فقط\n",
    "    attrition_data = Employees_df[Employees_df['Attrition'] == 'Yes']\n",
    "    \n",
    "    # إعداد الرسم البياني\n",
    "    plt.figure(figsize=(12, 8))\n",
    "\n",
    "    # تحديد درجات اللون البنفسجي\n",
    "    purple_palette = ['#EAB8EA','#B87CC8', '#5B3B8A']\n",
    "\n",
    "    # رسم بياني شريطي يوضح عدد الموظفين الذين تركوا الشركة حسب عدد السنين في الشركة لكل قسم\n",
    "    sns.countplot(x='YearsAtCompany', hue='Department', data=attrition_data, palette=purple_palette)\n",
    "\n",
    "    # إضافة العناوين والتسميات\n",
    "    plt.title('Employee Attrition vs Years at Company by Department')\n",
    "    plt.xlabel('Years at Company')\n",
    "    plt.ylabel('Number of Employees who Left')\n",
    "    plt.legend(title='Department')\n",
    "\n",
    "    # تحسين الشكل\n",
    "    plt.grid(True)\n",
    "\n",
    "    # عرض الرسم البياني\n",
    "    plt.show()\n",
    "else:\n",
    "    print(\"Column 'Attrition', 'YearsAtCompany', or 'Department' is missing in the dataset.\")"
   ]
  },
  {
   "cell_type": "markdown",
   "id": "212e3657-a5a9-415f-9ef7-87430227ca61",
   "metadata": {},
   "source": [
    "### Q9: Atration_stock_option_level"
   ]
  },
  {
   "cell_type": "code",
   "execution_count": null,
   "id": "4d0763cf-9212-496a-8fc4-a2d24aad9727",
   "metadata": {
    "scrolled": true
   },
   "outputs": [],
   "source": [
    "# Assuming Employees_df is already loaded\n",
    "# Employees_df = pd.read_excel('path_to_your_file/modify.xlsx', sheet_name='Employees')\n",
    "\n",
    "# Group by 'YearsAtCompany' and 'StockOptionLevel'\n",
    "total_counts = Employees_df.groupby(['YearsAtCompany', 'StockOptionLevel']).size().reset_index(name='TotalEmployees')\n",
    "\n",
    "attrition_counts = (\n",
    "    Employees_df[Employees_df['Attrition'] == 'Yes']\n",
    "    .groupby(['YearsAtCompany', 'StockOptionLevel'])\n",
    "    .size()\n",
    "    .reset_index(name='AttritionCount')\n",
    ")\n",
    "\n",
    "# Merge total counts and attrition counts\n",
    "merged_data = pd.merge(total_counts, attrition_counts, on=['YearsAtCompany', 'StockOptionLevel'], how='left')\n",
    "merged_data['AttritionCount'] = merged_data['AttritionCount'].fillna(0)\n",
    "merged_data['AttritionRate'] = (merged_data['AttritionCount'] / merged_data['TotalEmployees']) * 100\n",
    "\n",
    "# Set plot style\n",
    "sns.set(style=\"whitegrid\")\n",
    "\n",
    "# Use a palette with exactly the number of unique StockOptionLevels\n",
    "num_levels = merged_data['StockOptionLevel'].nunique()\n",
    "custom_palette = sns.color_palette(\"magma\", n_colors=num_levels)\n",
    "\n",
    "# Plot the data\n",
    "plt.figure(figsize=(15, 8))\n",
    "ax = sns.barplot(\n",
    "    data=merged_data,\n",
    "    x='YearsAtCompany',\n",
    "    y='AttritionRate',\n",
    "    hue='StockOptionLevel',\n",
    "    palette=custom_palette\n",
    ")\n",
    "\n",
    "# Add plot labels and title\n",
    "plt.title('Attrition Rate by Years at Company and Stock Option Level', fontsize=16)\n",
    "plt.xlabel('Years at Company', fontsize=12)\n",
    "plt.ylabel('Attrition Rate (%)', fontsize=12)\n",
    "plt.xticks(rotation=45)\n",
    "plt.legend(title='Stock Option Level', loc='upper right')\n",
    "\n",
    "# Display the plot\n",
    "plt.tight_layout()\n",
    "plt.show()\n",
    "\n",
    "# Print merged data for reference\n",
    "print(merged_data[['YearsAtCompany', 'StockOptionLevel', 'TotalEmployees', 'AttritionCount', 'AttritionRate']])\n"
   ]
  },
  {
   "cell_type": "markdown",
   "id": "53e6561d-b989-4a34-bf41-ae695fb48f20",
   "metadata": {},
   "source": [
    "### Q10: Employee Attrition Rate by Job Role and Years with Current Manager"
   ]
  },
  {
   "cell_type": "code",
   "execution_count": null,
   "id": "62678819-4682-4749-8c55-8f9b5e43a338",
   "metadata": {
    "scrolled": true
   },
   "outputs": [],
   "source": [
    "# Ensure the required columns are present in the dataset\n",
    "if 'JobRole' in Employees_df.columns and 'Attrition' in Employees_df.columns and 'YearsWithCurrManager' in Employees_df.columns:\n",
    "\n",
    "    # Step 1: Calculate the total number of employees per job role and years with current manager\n",
    "    total_by_jobrole_manager = Employees_df.groupby(['JobRole', 'YearsWithCurrManager']).size().reset_index(name='Total')\n",
    "\n",
    "    # Step 2: Calculate the number of employees who left the company (Attrition == 'Yes')\n",
    "    attrition_by_jobrole_manager = Employees_df[Employees_df['Attrition'] == 'Yes'].groupby(['JobRole', 'YearsWithCurrManager']).size().reset_index(name='Left')\n",
    "\n",
    "    # Step 3: Merge the data to get the total and those who left\n",
    "    job_role_manager_attrition = pd.merge(total_by_jobrole_manager, attrition_by_jobrole_manager, on=['JobRole', 'YearsWithCurrManager'], how='left')\n",
    "\n",
    "    # Step 4: Fill NaN values in 'Left' with 0 where no employees left\n",
    "    job_role_manager_attrition['Left'] = job_role_manager_attrition['Left'].fillna(0)\n",
    "\n",
    "    # Step 5: Calculate the attrition rate as a percentage\n",
    "    job_role_manager_attrition['AttritionRate'] = (job_role_manager_attrition['Left'] / job_role_manager_attrition['Total']) * 100\n",
    "\n",
    "    # Step 6: Plot the data\n",
    "    plt.figure(figsize=(14, 7))\n",
    "\n",
    "    # Create a barplot showing the attrition rate, colored by years with the current manager\n",
    "    sns.barplot(x='JobRole', y='AttritionRate', hue='YearsWithCurrManager', data=job_role_manager_attrition, palette='Purples_r')\n",
    "\n",
    "    # Add titles and labels\n",
    "    plt.title('Employee Attrition Rate by Job Role and Years with Current Manager', color='purple')\n",
    "    plt.xlabel('Job Role', color='purple')\n",
    "    plt.ylabel('Attrition Rate (%)', color='purple')\n",
    "\n",
    "    # Rotate x-axis labels for better readability\n",
    "    plt.xticks(rotation=45)\n",
    "\n",
    "    # Adjust layout\n",
    "    plt.tight_layout()\n",
    "\n",
    "    # Display the plot\n",
    "    plt.show()\n",
    "\n",
    "else:\n",
    "    print(\"Ensure that your dataset contains the following columns: 'JobRole', 'Attrition', 'YearsWithCurrManager'.\")"
   ]
  },
  {
   "cell_type": "markdown",
   "id": "8188eb80-1619-4410-87d9-583e6aa66f28",
   "metadata": {},
   "source": [
    "###  Q11:Manager Rating and turnover"
   ]
  },
  {
   "cell_type": "code",
   "execution_count": null,
   "id": "6fb76e04-b3df-420f-88dd-5a718f5bd1d0",
   "metadata": {},
   "outputs": [],
   "source": [
    "performance_Rating = Performance_df.merge(\n",
    "    Rating_df[['RatingID', 'RatingLevel']],\n",
    "    left_on='ManagerRating',\n",
    "    right_on='RatingID',\n",
    "    how='left'\n",
    ")\n",
    "\n",
    "# Step 2: Calculate the average WorkLifeBalance (Rating) for each employee and round to the nearest integer\n",
    "avg_Rating = performance_Rating.groupby('EmployeeID')['ManagerRating'].mean().reset_index()\n",
    "avg_Rating['RoundedRating'] = avg_Rating['ManagerRating'].round().astype(int)\n",
    "\n",
    "# Step 3: Merge with Employees_df to get attrition information\n",
    "employee_attrition = Employees_df[['EmployeeID', 'Attrition']].merge(avg_Rating, on='EmployeeID', how='left')\n",
    "\n",
    "# Step 4: Calculate attrition counts based on rounded rating levels\n",
    "attrition_counts = employee_attrition.groupby('RoundedRating')['Attrition'].value_counts().unstack(fill_value=0)\n",
    "\n",
    "# Ensure correct column names for attrition status\n",
    "attrition_counts.columns = ['No', 'Yes']  # Assuming \"No\" = Stayed and \"Yes\" = Left\n",
    "\n",
    "# Step 5: Calculate attrition rates\n",
    "attrition_rates = attrition_counts.div(attrition_counts.sum(axis=1), axis=0)\n",
    "attrition_rates['AttritionRate'] = attrition_rates['Yes'] / (attrition_rates['Yes'] + attrition_rates['No']) * 100  # Convert to percentage\n",
    "\n",
    "# Step 6: Merge with Rating_levels (assuming RoundedRating corresponds to RatingID)\n",
    "Rating_levels = Rating_df.set_index('RatingID')['RatingLevel']\n",
    "Rating_counts = attrition_rates.join(Rating_levels, on='RoundedRating', how='left')\n",
    "\n",
    "# Step 7: Plot the results\n",
    "plt.figure(figsize=(10, 6))\n",
    "sns.barplot(\n",
    "    data=Rating_counts.reset_index(), \n",
    "    x='RoundedRating', \n",
    "    y='AttritionRate', \n",
    "    hue='RatingLevel', \n",
    "    palette='Purples_r', \n",
    "    legend=False\n",
    ")\n",
    "plt.title('Attrition Rate Based on Manager Rating')\n",
    "plt.xlabel('Rounded Manager Rating')\n",
    "plt.ylabel('Attrition Rate (%)')\n",
    "plt.xticks(rotation=45)\n",
    "plt.show()"
   ]
  },
  {
   "cell_type": "markdown",
   "id": "6079f5ae-acb2-4878-ad8d-ffe11bb453be",
   "metadata": {},
   "source": [
    "### Q12:Relationship Satisfaction and tunover"
   ]
  },
  {
   "cell_type": "code",
   "execution_count": null,
   "id": "589f86e1-d93f-49ee-92c3-c6a389df3fdc",
   "metadata": {},
   "outputs": [],
   "source": [
    "# Step 1: Merge Performance_df with Satisfied_df to get SatisfactionLevel\n",
    "performance_satisfaction = Performance_df.merge(\n",
    "    Satisfied_df[['SatisfactionID', 'SatisfactionLevel']],\n",
    "    left_on='RelationshipSatisfaction',\n",
    "    right_on='SatisfactionID',\n",
    "    how='left'\n",
    ")\n",
    "\n",
    "# Step 2: Calculate the average Relationship Satisfaction for each employee and round to the nearest integer\n",
    "avg_satisfaction = performance_satisfaction.groupby('EmployeeID')['RelationshipSatisfaction'].mean().reset_index()\n",
    "avg_satisfaction['RoundedSatisfaction'] = avg_satisfaction['RelationshipSatisfaction'].round().astype(int)\n",
    "\n",
    "# Step 3: Merge with Employees_df to get attrition information\n",
    "employee_attrition = Employees_df[['EmployeeID', 'Attrition']].merge(avg_satisfaction, on='EmployeeID', how='left')\n",
    "\n",
    "# Step 4: Calculate attrition counts based on satisfaction levels\n",
    "attrition_counts = employee_attrition.groupby('RoundedSatisfaction')['Attrition'].value_counts().unstack(fill_value=0)\n",
    "\n",
    "# Ensure correct column names\n",
    "attrition_counts.columns = ['No', 'Yes']  # Assuming \"No\" = Stayed and \"Yes\" = Left\n",
    "\n",
    "# Step 5: Calculate attrition rates\n",
    "attrition_rates = attrition_counts.div(attrition_counts.sum(axis=1), axis=0)\n",
    "attrition_rates['AttritionRate'] = attrition_rates['Yes'] / (attrition_rates['Yes'] + attrition_rates['No'])\n",
    "\n",
    "# Step 6: Create a DataFrame for plotting with SatisfactionLevel\n",
    "satisfaction_levels = Satisfied_df.set_index('SatisfactionID')['SatisfactionLevel']\n",
    "satisfaction_counts = attrition_rates.join(satisfaction_levels, on='RoundedSatisfaction', how='left')\n",
    "\n",
    "# Step 7: Plot the results\n",
    "plt.figure(figsize=(10, 6))\n",
    "sns.barplot(data=satisfaction_counts.reset_index(), x='RoundedSatisfaction', y='AttritionRate', hue='SatisfactionLevel', palette='Purples_r', legend=False)\n",
    "plt.title('Attrition Rate Based on Relationship Satisfaction Level')\n",
    "plt.xlabel('Rounded Relationship Satisfaction Level')\n",
    "plt.ylabel('Attrition Rate')\n",
    "plt.xticks(rotation=45)\n",
    "plt.show()"
   ]
  },
  {
   "cell_type": "markdown",
   "id": "9f63ae0b-374e-43d0-bf37-769b32fcc697",
   "metadata": {},
   "source": [
    "### Q13: Life Balance and tunover"
   ]
  },
  {
   "cell_type": "code",
   "execution_count": null,
   "id": "a323e714-c784-416b-b518-beef2da2ae94",
   "metadata": {},
   "outputs": [],
   "source": [
    "performance_Rating = Performance_df.merge(\n",
    "    Rating_df[['RatingID', 'RatingLevel']],\n",
    "    left_on='WorkLifeBalance',\n",
    "    right_on='RatingID',\n",
    "    how='left'\n",
    ")\n",
    "\n",
    "# Step 2: Calculate the average WorkLifeBalance (Rating) for each employee and round to the nearest integer\n",
    "avg_Rating = performance_Rating.groupby('EmployeeID')['WorkLifeBalance'].mean().reset_index()\n",
    "avg_Rating['RoundedRating'] = avg_Rating['WorkLifeBalance'].round().astype(int)\n",
    "\n",
    "# Step 3: Merge with Employees_df to get attrition information\n",
    "employee_attrition = Employees_df[['EmployeeID', 'Attrition']].merge(avg_Rating, on='EmployeeID', how='left')\n",
    "\n",
    "# Step 4: Calculate attrition counts based on rounded rating levels\n",
    "attrition_counts = employee_attrition.groupby('RoundedRating')['Attrition'].value_counts().unstack(fill_value=0)\n",
    "\n",
    "# Ensure correct column names for attrition status\n",
    "attrition_counts.columns = ['No', 'Yes']  # Assuming \"No\" = Stayed and \"Yes\" = Left\n",
    "\n",
    "# Step 5: Calculate attrition rates\n",
    "attrition_rates = attrition_counts.div(attrition_counts.sum(axis=1), axis=0)\n",
    "attrition_rates['AttritionRate'] = attrition_rates['Yes'] / (attrition_rates['Yes'] + attrition_rates['No']) * 100  # Convert to percentage\n",
    "\n",
    "# Step 6: Merge with Rating_levels (assuming RoundedRating corresponds to RatingID)\n",
    "Rating_levels = Rating_df.set_index('RatingID')['RatingLevel']\n",
    "Rating_counts = attrition_rates.join(Rating_levels, on='RoundedRating', how='left')\n",
    "\n",
    "# Step 7: Plot the results\n",
    "plt.figure(figsize=(10, 6))\n",
    "sns.barplot(\n",
    "    data=Rating_counts.reset_index(), \n",
    "    x='RoundedRating', \n",
    "    y='AttritionRate', \n",
    "    hue='RatingLevel', \n",
    "    palette='Purples_r', \n",
    "    legend=False\n",
    ")\n",
    "plt.title('Attrition Rate Based on Work Life Balance')\n",
    "plt.xlabel('Rounded Work Life Balance')\n",
    "plt.ylabel('Attrition Rate (%)')\n",
    "plt.xticks(rotation=45)\n",
    "plt.show()"
   ]
  },
  {
   "cell_type": "markdown",
   "id": "ce9b035b-12ba-43c7-85fb-ea43f96a7cfe",
   "metadata": {},
   "source": [
    "### Q14 Attration Rate by Over time"
   ]
  },
  {
   "cell_type": "code",
   "execution_count": null,
   "id": "8d7417e6-39f8-42e3-a707-3edf554015f1",
   "metadata": {},
   "outputs": [],
   "source": [
    "# Group data by OverTime to calculate total employees and those with attrition\n",
    "total_counts = Employees_df.groupby('OverTime').size().reset_index(name='TotalEmployees')\n",
    "\n",
    "attrition_counts = (\n",
    "    Employees_df[Employees_df['Attrition'] == 'Yes']\n",
    "    .groupby('OverTime')\n",
    "    .size()\n",
    "    .reset_index(name='AttritionCount')\n",
    ")\n",
    "\n",
    "# Merge total and attrition counts to calculate attrition rate\n",
    "merged_data = pd.merge(total_counts, attrition_counts, on='OverTime', how='left')\n",
    "merged_data['AttritionCount'] = merged_data['AttritionCount'].fillna(0)\n",
    "merged_data['AttritionRate'] = (merged_data['AttritionCount'] / merged_data['TotalEmployees']) * 100\n",
    "\n",
    "# Set plot style\n",
    "sns.set(style=\"whitegrid\")\n",
    "\n",
    "# Plot the data\n",
    "plt.figure(figsize=(8, 5))\n",
    "ax = sns.barplot(\n",
    "    data=merged_data, \n",
    "    x='OverTime', \n",
    "    y='AttritionRate',\n",
    "    hue='OverTime',\n",
    "    palette='Purples'\n",
    ")\n",
    "\n",
    "# Add plot labels and title\n",
    "plt.title('Attrition Rate by Overtime', fontsize=16)\n",
    "plt.xlabel('OverTime', fontsize=12)\n",
    "plt.ylabel('Attrition Rate (%)', fontsize=12)\n",
    "\n",
    "# Display the plot\n",
    "plt.tight_layout()\n",
    "plt.show()\n",
    "\n",
    "# Print merged data for reference\n",
    "print(merged_data[['OverTime', 'TotalEmployees', 'AttritionCount', 'AttritionRate']])\n"
   ]
  },
  {
   "cell_type": "markdown",
   "id": "29fbc685-dc7c-4636-b865-ab40ca046fd6",
   "metadata": {},
   "source": [
    "### Q15:Relation Between Frequency travel,Overtime and attration rate"
   ]
  },
  {
   "cell_type": "code",
   "execution_count": null,
   "id": "e8683557-b9c5-410c-9aa8-183a347df43e",
   "metadata": {},
   "outputs": [],
   "source": [
    "\n",
    "# Group data by TravelFrequency and OverTime to calculate total employees and those with attrition\n",
    "total_counts = Employees_df.groupby(['TravelFrequency', 'OverTime']).size().reset_index(name='TotalEmployees')\n",
    "\n",
    "attrition_counts = (\n",
    "    Employees_df[Employees_df['Attrition'] == 'Yes']\n",
    "    .groupby(['TravelFrequency', 'OverTime'])\n",
    "    .size()\n",
    "    .reset_index(name='AttritionCount')\n",
    ")\n",
    "\n",
    "# Merge total and attrition counts to calculate attrition rate\n",
    "merged_data = pd.merge(total_counts, attrition_counts, on=['TravelFrequency', 'OverTime'], how='left')\n",
    "merged_data['AttritionCount'] = merged_data['AttritionCount'].fillna(0)\n",
    "merged_data['AttritionRate'] = (merged_data['AttritionCount'] / merged_data['TotalEmployees']) * 100\n",
    "\n",
    "# Set plot style\n",
    "sns.set(style=\"whitegrid\")\n",
    "\n",
    "# Plot the data\n",
    "plt.figure(figsize=(12, 6))\n",
    "ax = sns.barplot(\n",
    "    data=merged_data, \n",
    "    x='TravelFrequency', \n",
    "    y='AttritionRate', \n",
    "    hue='OverTime', \n",
    "    palette='Purples'\n",
    ")\n",
    "\n",
    "# Add plot labels and title\n",
    "plt.title('Attrition Rate by Travel Frequency and Overtime', fontsize=16)\n",
    "plt.xlabel('Travel Frequency', fontsize=12)\n",
    "plt.ylabel('Attrition Rate (%)', fontsize=12)\n",
    "plt.xticks(rotation=45)\n",
    "plt.legend(title='OverTime', loc='upper right')\n",
    "\n",
    "# Display the plot\n",
    "plt.tight_layout()\n",
    "plt.show()\n",
    "\n",
    "# Print merged data for reference\n",
    "print(merged_data[['TravelFrequency', 'OverTime', 'TotalEmployees', 'AttritionCount', 'AttritionRate']])\n"
   ]
  },
  {
   "cell_type": "markdown",
   "id": "e0016546-9f03-4d80-8739-3465c43b3d23",
   "metadata": {},
   "source": [
    "## Q16: Attration_Education_Salary"
   ]
  },
  {
   "cell_type": "code",
   "execution_count": null,
   "id": "d64c4884-0fd0-434e-87bb-0daf2b00e808",
   "metadata": {},
   "outputs": [],
   "source": [
    "# Convert HireDate to datetime if not already\n",
    "Employees_df['HireDate'] = pd.to_datetime(Employees_df['HireDate'])\n",
    "\n",
    "# Extract the year from HireDate and create a new column\n",
    "Employees_df['HireYear'] = Employees_df['HireDate'].dt.year\n",
    "\n",
    "# Check if the required columns exist\n",
    "if 'Salary' in Employees_df.columns and 'EducationLevel' in Employees_df.columns and 'Attrition' in Employees_df.columns:\n",
    "    # Calculate average salary by education level, attrition status, and hire year\n",
    "    avg_salary = Employees_df.groupby(['HireYear', 'EducationLevel', 'Attrition'])['Salary'].mean().reset_index()\n",
    "\n",
    "    # Get unique years to create separate plots\n",
    "    unique_years = avg_salary['HireYear'].unique()\n",
    "\n",
    "    # Define a custom palette for gray and purple\n",
    "    custom_palette = ['gray', 'purple']  # First color for 'Attrition=Yes', second for 'Attrition=No'\n",
    "\n",
    "    for year in unique_years:\n",
    "        # Filter data for the current year\n",
    "        year_data = avg_salary[avg_salary['HireYear'] == year]\n",
    "\n",
    "        # Set up the plot\n",
    "        plt.figure(figsize=(10, 5))\n",
    "\n",
    "        # Create a bar plot without confidence intervals, using the custom palette\n",
    "        sns.barplot(data=year_data, x='EducationLevel', y='Salary', hue='Attrition',color='purple',palette=custom_palette, errorbar=None)\n",
    "\n",
    "        # Add titles and labels\n",
    "        plt.title(f'Average Salary by Education Level and Attrition Status for {year}')\n",
    "        plt.xlabel('Education Level', color='purple')\n",
    "        plt.ylabel('Average Salary', color='purple')\n",
    "\n",
    "        # Improve the plot appearance\n",
    "        plt.xticks(rotation=45)\n",
    "        plt.legend(title='Attrition Status')\n",
    "        plt.grid(axis='y')\n",
    "\n",
    "        # Show the plot\n",
    "        plt.tight_layout()\n",
    "        plt.show()\n",
    "else:\n",
    "    print(\"One or more required columns ('Salary', 'EducationLevel', 'Attrition') are missing in the dataset.\")"
   ]
  },
  {
   "cell_type": "markdown",
   "id": "c7d5cb8d-beab-4658-88f1-8ca9f73900e8",
   "metadata": {},
   "source": [
    "### Q16: Attration by Education Level"
   ]
  },
  {
   "cell_type": "code",
   "execution_count": null,
   "id": "f30dbc28-8cfb-4c82-9b25-b571e2ecb5f3",
   "metadata": {},
   "outputs": [],
   "source": [
    "total_employees_by_education = Employees_df.groupby('EducationLevel')['Attrition'].count().reset_index(name='TotalEmployees')\n",
    "\n",
    "# Calculate the number of employees who left the company for each education level\n",
    "attrition_counts = Employees_df[Employees_df['Attrition'] == 'Yes'].groupby('EducationLevel')['Attrition'].count().reset_index(name='AttritionCount')\n",
    "\n",
    "# Merge the total employees and attrition counts into one dataframe\n",
    "attrition_percentage_df = pd.merge(total_employees_by_education, attrition_counts, on='EducationLevel')\n",
    "\n",
    "# Calculate the percentage of employees who left\n",
    "attrition_percentage_df['AttritionPercentage'] = (attrition_percentage_df['AttritionCount'] / attrition_percentage_df['TotalEmployees']) * 100\n",
    "\n",
    "# Set up the plot\n",
    "plt.figure(figsize=(10, 6))\n",
    "\n",
    "# Create a bar plot to show attrition percentages by education level\n",
    "sns.barplot(x='EducationLevel', y='AttritionPercentage', hue='EducationLevel', data=attrition_percentage_df, palette='Purples_r', legend=False)\n",
    "# Add titles and labels\n",
    "plt.title('Percentage of Employees Who Left the Company by Education Level', color='purple')\n",
    "plt.xlabel('Education Level', color='purple')\n",
    "plt.ylabel('Attrition Percentage (%)', color='purple')\n",
    "\n",
    "# Show the plot\n",
    "plt.xticks(rotation=45, ha='right')  # Rotate x-ticks for better readability\n",
    "plt.grid(True, axis='y')\n",
    "plt.tight_layout()\n",
    "plt.show()"
   ]
  },
  {
   "cell_type": "markdown",
   "id": "6438ac79-9958-4cf7-90f7-ae57fc5e16d3",
   "metadata": {},
   "source": [
    "### The Expectations "
   ]
  },
  {
   "cell_type": "code",
   "execution_count": null,
   "id": "9afe49a0-75dd-46ea-8a2e-6153c78484eb",
   "metadata": {},
   "outputs": [],
   "source": [
    "# 1. Load the dataset (Replace 'your_dataframe' with your DataFrame variable)\n",
    "df = Employees_df\n",
    "\n",
    "# 2. Preprocessing\n",
    "# Encode categorical variables: OverTime, TravelFrequency, and EducationLevel\n",
    "encoder = LabelEncoder()\n",
    "df['OverTime'] = encoder.fit_transform(df['OverTime'])\n",
    "df['TravelFrequency'] = encoder.fit_transform(df['TravelFrequency'])\n",
    "df['EducationLevel'] = encoder.fit_transform(df['EducationLevel'])\n",
    "\n",
    "# Select features and target variable\n",
    "features = ['OverTime', 'Age', 'StockOptionLevel', 'TravelFrequency', 'EducationLevel', 'Salary']\n",
    "X = df[features]\n",
    "y = df['Salary']\n",
    "\n",
    "# Split the data into training and testing sets (60% training, 40% testing)\n",
    "X_train, X_test, y_train, y_test = train_test_split(X, y, test_size=0.4, random_state=42)\n",
    "\n",
    "# 3. Model Training\n",
    "# Train a linear regression model\n",
    "model = LinearRegression()\n",
    "model.fit(X_train, y_train)\n",
    "\n",
    "# 4. Model Evaluation\n",
    "# Make predictions on the test set\n",
    "y_pred = model.predict(X_test)\n",
    "\n",
    "# Calculate evaluation metrics: MSE, MAE, and R²\n",
    "mse = mean_squared_error(y_test, y_pred)\n",
    "mae = mean_absolute_error(y_test, y_pred)\n",
    "r2 = r2_score(y_test, y_pred)\n",
    "\n",
    "# Display the metrics\n",
    "print(f'Mean Squared Error (MSE): {mse:.2f}')\n",
    "print(f'Mean Absolute Error (MAE): {mae:.2f}')\n",
    "print(f'R-squared Score (R²): {r2:.2f}')\n",
    "\n",
    "# Calculate accuracy as a percentage\n",
    "accuracy = r2 * 100\n",
    "print(f'Model Accuracy: {accuracy:.2f}%')\n",
    "\n",
    "# 5. Salary Prediction for 2023–2027\n",
    "# Create a dictionary to store predictions for each job role\n",
    "predictions = {}\n",
    "years = np.arange(2023, 2028)\n",
    "\n",
    "for role in df['JobRole'].unique():\n",
    "    # Filter rows for the current job role and compute the average feature values\n",
    "    role_df = df[df['JobRole'] == role]\n",
    "    avg_features = role_df[features].mean().to_frame().T  # Create DataFrame with valid feature names\n",
    "\n",
    "    # Predict average salary for the next 5 years\n",
    "    salary_preds = model.predict(avg_features) * np.ones_like(years)\n",
    "\n",
    "    # Store predictions for the current job role\n",
    "    predictions[role] = salary_preds\n",
    "\n",
    "# 6. Visualization of Real and Predicted Salaries\n",
    "# Plot the data for each job role\n",
    "for role, salary_preds in predictions.items():\n",
    "    plt.figure(figsize=(8, 5))\n",
    "\n",
    "    # Plot real data points (historical salaries)\n",
    "    sns.lineplot(\n",
    "        x=df[df['JobRole'] == role]['AttritionYear'],\n",
    "        y=df[df['JobRole'] == role]['Salary'],\n",
    "        color='Purple',marker='o', label='Real'\n",
    "    )\n",
    "\n",
    "    # Plot predicted salaries for 2023–2027\n",
    "    sns.lineplot(\n",
    "        x=years, y=salary_preds,\n",
    "        color='Gray',marker='o', label='Predicted'\n",
    "    )\n",
    "\n",
    "    # Chart settings\n",
    "    plt.title(f'Average Salary Prediction for {role} (2023-2027)')\n",
    "    plt.xlabel('Year')\n",
    "    plt.ylabel('Average Salary')\n",
    "    plt.legend()\n",
    "    plt.show()\n"
   ]
  },
  {
   "cell_type": "code",
   "execution_count": null,
   "id": "f3354a0c-dd2b-4f51-ad29-7987a1e08718",
   "metadata": {},
   "outputs": [],
   "source": []
  }
 ],
 "metadata": {
  "kernelspec": {
   "display_name": "Python 3 (ipykernel)",
   "language": "python",
   "name": "python3"
  },
  "language_info": {
   "codemirror_mode": {
    "name": "ipython",
    "version": 3
   },
   "file_extension": ".py",
   "mimetype": "text/x-python",
   "name": "python",
   "nbconvert_exporter": "python",
   "pygments_lexer": "ipython3",
   "version": "3.12.4"
  }
 },
 "nbformat": 4,
 "nbformat_minor": 5
}
